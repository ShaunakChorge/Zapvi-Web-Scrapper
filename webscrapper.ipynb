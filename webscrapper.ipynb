{
 "cells": [
  {
   "cell_type": "code",
   "execution_count": null,
   "metadata": {},
   "outputs": [],
   "source": []
  },
  {
   "cell_type": "markdown",
   "metadata": {},
   "source": [
    "# WEB Scrapping Zapvi.in"
   ]
  },
  {
   "cell_type": "markdown",
   "metadata": {},
   "source": [
    "### Import Libraries and Set Base URL"
   ]
  },
  {
   "cell_type": "code",
   "execution_count": 1,
   "metadata": {},
   "outputs": [],
   "source": [
    "import requests\n",
    "from bs4 import BeautifulSoup\n",
    "import pandas as pd\n",
    "\n",
    "# Base URL of the website\n",
    "base_url = \"https://zapvi.in/apple-iphone-16-pro-max-back-cover/page/{}/\""
   ]
  },
  {
   "cell_type": "markdown",
   "metadata": {},
   "source": [
    "*This cell imports the necessary libraries and sets the base URL for the product pages.*"
   ]
  },
  {
   "cell_type": "markdown",
   "metadata": {},
   "source": [
    "### Initialize Lists and Define Number of Pages"
   ]
  },
  {
   "cell_type": "code",
   "execution_count": 2,
   "metadata": {},
   "outputs": [],
   "source": [
    "# Initialize lists to store the scraped data\n",
    "product_names = []\n",
    "product_prices = []\n",
    "product_urls = []\n",
    "\n",
    "# Define the number of pages to scrape\n",
    "num_pages = 1  # Change this to the number of pages you want to scrape"
   ]
  },
  {
   "cell_type": "markdown",
   "metadata": {},
   "source": [
    "*This cell initializes empty lists to store product names, prices, and URLs, and defines how many pages to scrape..*"
   ]
  },
  {
   "cell_type": "markdown",
   "metadata": {},
   "source": [
    "### Loop Through Pages, Send GET Request, Parse HTML, and Extract Product Information"
   ]
  },
  {
   "cell_type": "code",
   "execution_count": 3,
   "metadata": {},
   "outputs": [],
   "source": [
    "# Loop through each page\n",
    "for page in range(1, num_pages + 1):\n",
    "    # Construct the full URL for the current page\n",
    "    url = base_url.format(page)\n",
    "    \n",
    "    # Send a GET request to fetch the HTML content\n",
    "    response = requests.get(url)\n",
    "\n",
    "    # Check if the request was successful\n",
    "    if response.status_code != 200:\n",
    "        print(f\"Failed to retrieve page {page}. Status code: {response.status_code}\")\n",
    "        continue\n",
    "\n",
    "    # Parse the HTML content\n",
    "    soup = BeautifulSoup(response.content, 'html.parser')\n",
    "\n",
    "    # Find all product elements\n",
    "    products = soup.find_all('div', class_='product-small')\n",
    "\n",
    "    # Loop through each product and extract the desired information\n",
    "    for product in products:\n",
    "        # Extract product name\n",
    "        name = product.find('p', class_='name product-title woocommerce-loop-product__title').get_text(strip=True)\n",
    "        \n",
    "        # Check for duplicates\n",
    "        if name not in product_names:\n",
    "            product_names.append(name)\n",
    "\n",
    "            # Extract product price\n",
    "            price = product.find('span', class_='price').get_text(strip=True).split('Current price is: ')[-1]\n",
    "            product_prices.append(price.split(' ')[0])  # Store only the currency part\n",
    "\n",
    "            # Extract product URL\n",
    "            url_tag = product.find('a', class_='woocommerce-LoopProduct-link woocommerce-loop-product__link')\n",
    "            product_urls.append(url_tag['href'] if url_tag else 'No URL available')"
   ]
  },
  {
   "cell_type": "markdown",
   "metadata": {},
   "source": [
    "*This cell combines the process of looping through each page, sending GET requests, parsing HTML content, and extracting product information (name, price, and URL) into a single coherent flow.*"
   ]
  },
  {
   "cell_type": "markdown",
   "metadata": {},
   "source": [
    "### Create DataFrame and Display"
   ]
  },
  {
   "cell_type": "code",
   "execution_count": 4,
   "metadata": {},
   "outputs": [
    {
     "name": "stdout",
     "output_type": "stream",
     "text": [
      "                                         Product Name     Price  \\\n",
      "0   Custom Photo Printed Glossy Metal Phone Cover ...  ₹249.00.   \n",
      "1   Cute Character-Themed Cases for Apple Iphone 1...  ₹449.00.   \n",
      "2   Silicone Cases for Apple Iphone 16 Pro Max (PA...  ₹199.00.   \n",
      "3   Silicone Cases for Apple Iphone 16 Pro Max (BL...  ₹199.00.   \n",
      "4   Plain Black Soft Silicone Case for Apple Iphon...   ₹99.00.   \n",
      "5   Cute Sally Case with Phonegrip for Apple Iphon...  ₹449.00.   \n",
      "6   Transparent MagSafe Case for Apple Iphone 16 P...  ₹399.00.   \n",
      "7   Light Grey Feather Background Glossy Metal Pho...  ₹199.00.   \n",
      "8   Tiger Art Embossed Soft Silicone Case for Appl...  ₹149.00.   \n",
      "9   Mind Colourful Glossy Metal Phone Cover for Ap...  ₹199.00.   \n",
      "10  Sound Box Glossy Metal Phone Cover for Apple I...  ₹199.00.   \n",
      "11  Clock Tower Glossy Metal TPU Phone Cover for A...  ₹199.00.   \n",
      "\n",
      "                                          Product URL  \n",
      "0   https://zapvi.in/product/custom-photo-printed-...  \n",
      "1   https://zapvi.in/product/cute-character-themed...  \n",
      "2   https://zapvi.in/product/silicone-cases-for-ap...  \n",
      "3   https://zapvi.in/product/silicone-cases-for-ap...  \n",
      "4   https://zapvi.in/product/plain-black-soft-sili...  \n",
      "5   https://zapvi.in/product/cute-sally-case-with-...  \n",
      "6   https://zapvi.in/product/transparent-magsafe-c...  \n",
      "7   https://zapvi.in/product/light-grey-feather-ba...  \n",
      "8   https://zapvi.in/product/tiger-art-embossed-so...  \n",
      "9   https://zapvi.in/product/mind-colourful-glossy...  \n",
      "10  https://zapvi.in/product/sound-box-glossy-meta...  \n",
      "11  https://zapvi.in/product/clock-tower-glossy-me...  \n"
     ]
    }
   ],
   "source": [
    "# Create a DataFrame from the scraped data\n",
    "df = pd.DataFrame({\n",
    "    'Product Name': product_names,\n",
    "    'Price': product_prices,\n",
    "    'Product URL': product_urls\n",
    "})\n",
    "\n",
    "# Display the DataFrame\n",
    "print(df)"
   ]
  },
  {
   "cell_type": "markdown",
   "metadata": {},
   "source": [
    "*This cell creates a pandas DataFrame from the scraped data and displays it.*"
   ]
  },
  {
   "cell_type": "markdown",
   "metadata": {},
   "source": [
    "### Save Data to CSV (Optional)"
   ]
  },
  {
   "cell_type": "code",
   "execution_count": null,
   "metadata": {},
   "outputs": [],
   "source": [
    "# Save the DataFrame to a CSV file\n",
    "df.to_csv('scraped_products.csv', index=False)"
   ]
  },
  {
   "cell_type": "markdown",
   "metadata": {},
   "source": [
    "*This optional cell saves the DataFrame to a CSV file named 'scraped_products.csv' for future reference.*"
   ]
  },
  {
   "cell_type": "code",
   "execution_count": null,
   "metadata": {},
   "outputs": [],
   "source": []
  }
 ],
 "metadata": {
  "kernelspec": {
   "display_name": "Python 3",
   "language": "python",
   "name": "python3"
  },
  "language_info": {
   "codemirror_mode": {
    "name": "ipython",
    "version": 3
   },
   "file_extension": ".py",
   "mimetype": "text/x-python",
   "name": "python",
   "nbconvert_exporter": "python",
   "pygments_lexer": "ipython3",
   "version": "3.11.2"
  }
 },
 "nbformat": 4,
 "nbformat_minor": 2
}
